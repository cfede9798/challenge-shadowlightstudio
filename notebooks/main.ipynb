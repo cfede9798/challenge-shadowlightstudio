{
 "cells": [
  {
   "cell_type": "markdown",
   "id": "451031bb",
   "metadata": {},
   "source": [
    "### Data exploration"
   ]
  },
  {
   "cell_type": "markdown",
   "id": "a0b0d133",
   "metadata": {},
   "source": [
    "##### Required Python packages"
   ]
  },
  {
   "cell_type": "code",
   "execution_count": 2,
   "id": "e50d6f75",
   "metadata": {},
   "outputs": [
    {
     "name": "stdout",
     "output_type": "stream",
     "text": [
      "duckdb already installed\n",
      "pandas already installed\n"
     ]
    }
   ],
   "source": [
    "import importlib\n",
    "import subprocess\n",
    "import sys\n",
    "\n",
    "# We list special packages that don't exist in jupyter installation\n",
    "special_required_packages = {\n",
    "    \"duckdb\": \"duckdb\",\n",
    "    \"pandas\": \"pandas\"\n",
    "}\n",
    "\n",
    "# Verify special packages\n",
    "for module_name, pip_name in special_required_packages.items():\n",
    "    try:\n",
    "        importlib.import_module(module_name)\n",
    "        print(f\"{module_name} already installed\")\n",
    "    except ImportError:\n",
    "        print(f\"Installing {pip_name}...\")\n",
    "        subprocess.check_call([sys.executable, \"-m\", \"pip\", \"install\", pip_name])"
   ]
  },
  {
   "cell_type": "code",
   "execution_count": 3,
   "id": "ed9d0ae5",
   "metadata": {},
   "outputs": [],
   "source": [
    "import os\n",
    "import json\n",
    "import duckdb\n",
    "import shutil\n",
    "import pandas as pd\n",
    "from datetime import datetime"
   ]
  },
  {
   "cell_type": "markdown",
   "id": "94a80d19",
   "metadata": {},
   "source": [
    "##### Verify system version and set input data path, database path"
   ]
  },
  {
   "cell_type": "code",
   "execution_count": 4,
   "id": "0c75ec46",
   "metadata": {},
   "outputs": [
    {
     "name": "stdout",
     "output_type": "stream",
     "text": [
      "Working directory: /home/jovyan/challenge\n",
      "Python version: 3.11.6 | packaged by conda-forge | (main, Oct  3 2023, 10:40:35) [GCC 12.3.0]\n"
     ]
    }
   ],
   "source": [
    "# Input data path and database path within container\n",
    "CSV_PATH = \"/home/jovyan/challenge/data/ads_spend.csv\"\n",
    "DB_PATH = \"/home/jovyan/challenge/database/warehouse.db\"\n",
    "\n",
    "# Verify directory path and python version\n",
    "print(f\"Working directory: {os.getcwd()}\")\n",
    "print(f\"Python version: {sys.version}\")"
   ]
  },
  {
   "cell_type": "markdown",
   "id": "2e28cbd9",
   "metadata": {},
   "source": [
    "##### Explore first 5 rows within input data (ads_spend.csv)"
   ]
  },
  {
   "cell_type": "code",
   "execution_count": 5,
   "id": "40a36408",
   "metadata": {},
   "outputs": [
    {
     "data": {
      "application/vnd.microsoft.datawrangler.viewer.v0+json": {
       "columns": [
        {
         "name": "index",
         "rawType": "int64",
         "type": "integer"
        },
        {
         "name": "date",
         "rawType": "object",
         "type": "string"
        },
        {
         "name": "platform",
         "rawType": "object",
         "type": "string"
        },
        {
         "name": "account",
         "rawType": "object",
         "type": "string"
        },
        {
         "name": "campaign",
         "rawType": "object",
         "type": "string"
        },
        {
         "name": "country",
         "rawType": "object",
         "type": "string"
        },
        {
         "name": "device",
         "rawType": "object",
         "type": "string"
        },
        {
         "name": "spend",
         "rawType": "float64",
         "type": "float"
        },
        {
         "name": "clicks",
         "rawType": "int64",
         "type": "integer"
        },
        {
         "name": "impressions",
         "rawType": "int64",
         "type": "integer"
        },
        {
         "name": "conversions",
         "rawType": "int64",
         "type": "integer"
        }
       ],
       "ref": "bd0d5889-90ba-426b-b68d-5ad87a65373d",
       "rows": [
        [
         "0",
         "2025-01-01",
         "Meta",
         "AcctA",
         "Prospecting",
         "MX",
         "Desktop",
         "1115.94",
         "360",
         "15840",
         "29"
        ],
        [
         "1",
         "2025-01-01",
         "Google",
         "AcctA",
         "Brand_Search",
         "CA",
         "Mobile",
         "789.43",
         "566",
         "22640",
         "28"
        ],
        [
         "2",
         "2025-01-01",
         "Google",
         "AcctA",
         "Prospecting",
         "BR",
         "Desktop",
         "381.4",
         "133",
         "10241",
         "12"
        ],
        [
         "3",
         "2025-01-01",
         "Google",
         "AcctC",
         "Prospecting",
         "US",
         "Desktop",
         "1268.34",
         "891",
         "49005",
         "36"
        ],
        [
         "4",
         "2025-01-01",
         "Google",
         "AcctA",
         "Brand_Search",
         "BR",
         "Desktop",
         "1229.7",
         "628",
         "21352",
         "31"
        ]
       ],
       "shape": {
        "columns": 10,
        "rows": 5
       }
      },
      "text/html": [
       "<div>\n",
       "<style scoped>\n",
       "    .dataframe tbody tr th:only-of-type {\n",
       "        vertical-align: middle;\n",
       "    }\n",
       "\n",
       "    .dataframe tbody tr th {\n",
       "        vertical-align: top;\n",
       "    }\n",
       "\n",
       "    .dataframe thead th {\n",
       "        text-align: right;\n",
       "    }\n",
       "</style>\n",
       "<table border=\"1\" class=\"dataframe\">\n",
       "  <thead>\n",
       "    <tr style=\"text-align: right;\">\n",
       "      <th></th>\n",
       "      <th>date</th>\n",
       "      <th>platform</th>\n",
       "      <th>account</th>\n",
       "      <th>campaign</th>\n",
       "      <th>country</th>\n",
       "      <th>device</th>\n",
       "      <th>spend</th>\n",
       "      <th>clicks</th>\n",
       "      <th>impressions</th>\n",
       "      <th>conversions</th>\n",
       "    </tr>\n",
       "  </thead>\n",
       "  <tbody>\n",
       "    <tr>\n",
       "      <th>0</th>\n",
       "      <td>2025-01-01</td>\n",
       "      <td>Meta</td>\n",
       "      <td>AcctA</td>\n",
       "      <td>Prospecting</td>\n",
       "      <td>MX</td>\n",
       "      <td>Desktop</td>\n",
       "      <td>1115.94</td>\n",
       "      <td>360</td>\n",
       "      <td>15840</td>\n",
       "      <td>29</td>\n",
       "    </tr>\n",
       "    <tr>\n",
       "      <th>1</th>\n",
       "      <td>2025-01-01</td>\n",
       "      <td>Google</td>\n",
       "      <td>AcctA</td>\n",
       "      <td>Brand_Search</td>\n",
       "      <td>CA</td>\n",
       "      <td>Mobile</td>\n",
       "      <td>789.43</td>\n",
       "      <td>566</td>\n",
       "      <td>22640</td>\n",
       "      <td>28</td>\n",
       "    </tr>\n",
       "    <tr>\n",
       "      <th>2</th>\n",
       "      <td>2025-01-01</td>\n",
       "      <td>Google</td>\n",
       "      <td>AcctA</td>\n",
       "      <td>Prospecting</td>\n",
       "      <td>BR</td>\n",
       "      <td>Desktop</td>\n",
       "      <td>381.40</td>\n",
       "      <td>133</td>\n",
       "      <td>10241</td>\n",
       "      <td>12</td>\n",
       "    </tr>\n",
       "    <tr>\n",
       "      <th>3</th>\n",
       "      <td>2025-01-01</td>\n",
       "      <td>Google</td>\n",
       "      <td>AcctC</td>\n",
       "      <td>Prospecting</td>\n",
       "      <td>US</td>\n",
       "      <td>Desktop</td>\n",
       "      <td>1268.34</td>\n",
       "      <td>891</td>\n",
       "      <td>49005</td>\n",
       "      <td>36</td>\n",
       "    </tr>\n",
       "    <tr>\n",
       "      <th>4</th>\n",
       "      <td>2025-01-01</td>\n",
       "      <td>Google</td>\n",
       "      <td>AcctA</td>\n",
       "      <td>Brand_Search</td>\n",
       "      <td>BR</td>\n",
       "      <td>Desktop</td>\n",
       "      <td>1229.70</td>\n",
       "      <td>628</td>\n",
       "      <td>21352</td>\n",
       "      <td>31</td>\n",
       "    </tr>\n",
       "  </tbody>\n",
       "</table>\n",
       "</div>"
      ],
      "text/plain": [
       "         date platform account      campaign country   device    spend  \\\n",
       "0  2025-01-01     Meta   AcctA   Prospecting      MX  Desktop  1115.94   \n",
       "1  2025-01-01   Google   AcctA  Brand_Search      CA   Mobile   789.43   \n",
       "2  2025-01-01   Google   AcctA   Prospecting      BR  Desktop   381.40   \n",
       "3  2025-01-01   Google   AcctC   Prospecting      US  Desktop  1268.34   \n",
       "4  2025-01-01   Google   AcctA  Brand_Search      BR  Desktop  1229.70   \n",
       "\n",
       "   clicks  impressions  conversions  \n",
       "0     360        15840           29  \n",
       "1     566        22640           28  \n",
       "2     133        10241           12  \n",
       "3     891        49005           36  \n",
       "4     628        21352           31  "
      ]
     },
     "metadata": {},
     "output_type": "display_data"
    }
   ],
   "source": [
    "# Verify if csv exists\n",
    "if os.path.exists(CSV_PATH):\n",
    "    \n",
    "    # Take first 5 rows into pandas format, just for inspection\n",
    "    df_sample = pd.read_csv(CSV_PATH, nrows=5)\n",
    "    display(df_sample)\n",
    "    \n",
    "else:\n",
    "    print(\"CSV file not found\")\n",
    "\n",
    "# Delete dataframe\n",
    "del df_sample"
   ]
  },
  {
   "cell_type": "markdown",
   "id": "f9619075",
   "metadata": {},
   "source": [
    "##### Some features and big picture within input data (ads_spend.csv)"
   ]
  },
  {
   "cell_type": "code",
   "execution_count": 6,
   "id": "6f9bfb68",
   "metadata": {},
   "outputs": [
    {
     "name": "stdout",
     "output_type": "stream",
     "text": [
      "Dataset shape: (2000, 10)\n",
      "Columns: ['date', 'platform', 'account', 'campaign', 'country', 'device', 'spend', 'clicks', 'impressions', 'conversions']\n",
      "Total spent: $1,690,764.32\n",
      "Date range: 2025-01-01 a 2025-06-30\n",
      "Platforms: ['Meta' 'Google']\n",
      "Unique accounts: ['AcctA' 'AcctC' 'AcctB']\n",
      "  date: object\n",
      "  platform: object\n",
      "  account: object\n",
      "  campaign: object\n",
      "  country: object\n",
      "  device: object\n",
      "  spend: float64\n",
      "  clicks: int64\n",
      "  impressions: int64\n",
      "  conversions: int64\n"
     ]
    }
   ],
   "source": [
    "# Verify if csv exists\n",
    "if os.path.exists(CSV_PATH):\n",
    "    \n",
    "    # Full data set info\n",
    "    df_full = pd.read_csv(CSV_PATH)\n",
    "    print(f\"Dataset shape: {df_full.shape}\")\n",
    "    print(f\"Columns: {list(df_full.columns)}\")\n",
    "    print(f\"Total spent: ${df_full['spend'].sum():,.2f}\")\n",
    "    print(f\"Date range: {df_full['date'].min()} a {df_full['date'].max()}\")\n",
    "    print(f\"Platforms: {df_full['platform'].unique()}\")\n",
    "    print(f\"Unique accounts: {df_full['account'].unique()}\")\n",
    "    \n",
    "    # Verify data types\n",
    "    for col, dtype in df_full.dtypes.items():\n",
    "        print(f\"  {col}: {dtype}\")\n",
    "        \n",
    "else:\n",
    "    print(\"CSV file not found\")\n",
    "\n",
    "# Delete dataframe\n",
    "del df_full"
   ]
  },
  {
   "cell_type": "markdown",
   "id": "858f976b",
   "metadata": {},
   "source": [
    "### Data ingestion process"
   ]
  },
  {
   "cell_type": "markdown",
   "id": "95cc8db4",
   "metadata": {},
   "source": [
    "##### Function to ingest data in database"
   ]
  },
  {
   "cell_type": "code",
   "execution_count": 7,
   "id": "51fde355",
   "metadata": {},
   "outputs": [],
   "source": [
    "def ingest_data():\n",
    "\n",
    "    # Error handling\n",
    "    try:\n",
    "\n",
    "        # Verify csv file again\n",
    "        if not os.path.exists(CSV_PATH):\n",
    "            raise FileNotFoundError(f\"{CSV_PATH} csv not found\")\n",
    "            \n",
    "        # Read CSV and convert to dataframe\n",
    "        input_data_df = pd.read_csv(CSV_PATH)\n",
    "        print(f\"csv loaded: {input_data_df.shape[0]:,} rows, {input_data_df.shape[1]} columns\")\n",
    "        \n",
    "        # Validate if csv is empty\n",
    "        if input_data_df.empty:\n",
    "            raise ValueError(\"csv is empty\")\n",
    "\n",
    "        # Validate columns name (we put the list of columns that we already know exist)    \n",
    "        required_columns = ['date', 'platform', 'account', 'campaign', \n",
    "                           'country', 'device', 'spend', 'clicks', \n",
    "                           'impressions', 'conversions']\n",
    "        \n",
    "        # Check if we have missing columns\n",
    "        missing_cols = [col for col in required_columns if col not in input_data_df.columns]\n",
    "        if missing_cols:\n",
    "            raise ValueError(f\"Missing columns: {missing_cols}\")\n",
    "\n",
    "        # Check null or empty values in columns\n",
    "        null_empty_columns = [col for col in required_columns if input_data_df[col].isnull().any() or input_data_df[col].apply(lambda x: isinstance(x, str) and x.strip() == \"\").any()]\n",
    "\n",
    "        if null_empty_columns:\n",
    "            raise ValueError(f\"Columnas con valores nulos o vacíos: {null_empty_columns}\")\n",
    "        \n",
    "        # Add metadata\n",
    "        # Date\n",
    "        input_data_df['load_date'] = datetime.now()\n",
    "        # Filename\n",
    "        input_data_df['source_file_name'] = 'ads_spend.csv'\n",
    "        \n",
    "        print(f\"load_date: {input_data_df['load_date'].iloc[0]}\")\n",
    "        print(f\"source_file_name: {input_data_df['source_file_name'].iloc[0]}\")\n",
    "        \n",
    "        # Connect to duckDB\n",
    "        conn = duckdb.connect(DB_PATH)\n",
    "        \n",
    "        create_table_sql = \"\"\"\n",
    "        CREATE TABLE IF NOT EXISTS ads_spend_db (\n",
    "            date DATE,\n",
    "            platform VARCHAR,\n",
    "            account VARCHAR,\n",
    "            campaign VARCHAR,\n",
    "            country VARCHAR,\n",
    "            device VARCHAR,\n",
    "            spend DECIMAL(12,2),\n",
    "            clicks INTEGER,\n",
    "            impressions INTEGER,\n",
    "            conversions INTEGER,\n",
    "            -- Metadata challenge required\n",
    "            load_date TIMESTAMP,\n",
    "            source_file_name VARCHAR\n",
    "        );\n",
    "        \"\"\"\n",
    "        # Verify table is already created or just verify\n",
    "        conn.execute(create_table_sql)\n",
    "        print(\"Table ads_spend_db verified/created\")\n",
    "        \n",
    "        # Count register before add\n",
    "        count_before = conn.execute(\"SELECT COUNT(*) FROM ads_spend_db\").fetchone()[0]\n",
    "        \n",
    "        # Insert data in append mode to demostrate persistence\n",
    "        conn.register('df_new', input_data_df)\n",
    "        conn.execute(\"INSERT INTO ads_spend_db SELECT * FROM df_new\")\n",
    "        \n",
    "        # Count register after add\n",
    "        count_after = conn.execute(\"SELECT COUNT(*) FROM ads_spend_db\").fetchone()[0]\n",
    "        \n",
    "        conn.close()\n",
    "        \n",
    "        # Result for n8n in JSON format\n",
    "        result = {\n",
    "            \"status\": \"success\",\n",
    "            \"timestamp\": datetime.now().isoformat(),\n",
    "            \"rows_inserted\": len(input_data_df),\n",
    "            \"total_rows_before\": count_before,\n",
    "            \"total_rows_after\": count_after,\n",
    "            \"source_file\": \"ads_spend.csv\",\n",
    "            \"message\": f\"Successfully ingested {len(input_data_df):,} rows into warehouse\"\n",
    "        }\n",
    "        \n",
    "        print(f\"Register added: {len(input_data_df):,}\")\n",
    "        print(f\"Total regiser in DB now: {count_after:,}\")\n",
    "        print(f\"Increment: +{count_after - count_before:,}\")\n",
    "        \n",
    "        return result\n",
    "\n",
    "    # Error handling    \n",
    "    except Exception as error:\n",
    "        error_result = {\n",
    "            \"status\": \"error\",\n",
    "            \"timestamp\": datetime.now().isoformat(),\n",
    "            \"error_message\": str(error),\n",
    "            \"error_type\": type(error).__name__\n",
    "        }\n",
    "        print(f\"ERROR: {error}\")\n",
    "        return error_result"
   ]
  },
  {
   "cell_type": "markdown",
   "id": "340f2bd9",
   "metadata": {},
   "source": [
    "##### Execute data ingest"
   ]
  },
  {
   "cell_type": "code",
   "execution_count": 8,
   "id": "7d559296",
   "metadata": {},
   "outputs": [
    {
     "name": "stdout",
     "output_type": "stream",
     "text": [
      "Data Ingest in Execution\n",
      "csv loaded: 2,000 rows, 10 columns\n",
      "load_date: 2025-08-28 04:59:58.325771\n",
      "source_file_name: ads_spend.csv\n",
      "Table ads_spend_db verified/created\n",
      "Register added: 2,000\n",
      "Total regiser in DB now: 16,000\n",
      "Increment: +2,000\n",
      "\n",
      "Final Result: \n",
      "{\n",
      "  \"status\": \"success\",\n",
      "  \"timestamp\": \"2025-08-28T04:59:58.669323\",\n",
      "  \"rows_inserted\": 2000,\n",
      "  \"total_rows_before\": 14000,\n",
      "  \"total_rows_after\": 16000,\n",
      "  \"source_file\": \"ads_spend.csv\",\n",
      "  \"message\": \"Successfully ingested 2,000 rows into warehouse\"\n",
      "}\n"
     ]
    }
   ],
   "source": [
    "# Ingest data to database\n",
    "print(\"Data Ingest in Execution\")\n",
    "result = ingest_data()\n",
    "\n",
    "# Get result for n8n\n",
    "print(f\"\\nFinal Result: \")\n",
    "print(json.dumps(result, indent=2))"
   ]
  },
  {
   "cell_type": "markdown",
   "id": "766e52d9",
   "metadata": {},
   "source": [
    "### Verify data persistence"
   ]
  },
  {
   "cell_type": "markdown",
   "id": "a29c678f",
   "metadata": {},
   "source": [
    "##### Function to verify persistence"
   ]
  },
  {
   "cell_type": "code",
   "execution_count": 9,
   "id": "1d21a9f0",
   "metadata": {},
   "outputs": [],
   "source": [
    "def data_persistence():\n",
    "\n",
    "    # Connect to database    \n",
    "    conn = duckdb.connect(DB_PATH)\n",
    "    \n",
    "    # Get general statistics\n",
    "    total_records = conn.execute(\"SELECT COUNT(*) FROM ads_spend_db\").fetchone()[0]\n",
    "    \n",
    "    # Get load info\n",
    "    load_info = conn.execute(\"\"\"\n",
    "        SELECT \n",
    "            source_file_name,\n",
    "            strftime(load_date,'%Y-%m-%d %H:%M') as load_minute,\n",
    "            COUNT(*) as record_count,\n",
    "            MIN(load_date) as first_load_time,\n",
    "            MAX(load_date) as last_load_time\n",
    "        FROM ads_spend_db \n",
    "        GROUP BY source_file_name, load_minute\n",
    "        ORDER BY last_load_time DESC\n",
    "    \"\"\").fetchall()\n",
    "    \n",
    "    print(f\"Total records persisted {total_records:,}\")\n",
    "    print(f\"Registered load sessions {len(load_info)}\")\n",
    "    \n",
    "    print(f\"\\nLoad history\")\n",
    "    # Get last 5 five loads\n",
    "    for load in load_info[:5]:\n",
    "        filename, load_date, count, first_time, last_time = load\n",
    "        print(f\"{filename} | {load_date}\")\n",
    "        print(f\"Registers: {count:,}\")\n",
    "        print(f\"Datetime: {first_time}\")\n",
    "        print()\n",
    "    \n",
    "    # Verify data quality\n",
    "    data_quality = conn.execute(\"\"\"\n",
    "        SELECT \n",
    "            COUNT(*) as total_records,\n",
    "            COUNT(DISTINCT date) as unique_dates,\n",
    "            COUNT(DISTINCT platform) as unique_platforms,\n",
    "            COUNT(DISTINCT account) as unique_accounts,\n",
    "            SUM(spend) as total_spend,\n",
    "            SUM(conversions) as total_conversions,\n",
    "            AVG(spend) as avg_spend_per_record\n",
    "        FROM ads_spend_db\n",
    "    \"\"\").fetchone()\n",
    "    \n",
    "    print(f\"Data queality:\")\n",
    "    print(f\"Total registers: {data_quality[0]:,}\")\n",
    "    print(f\"Unique dates: {data_quality[1]:,}\")  \n",
    "    print(f\"Unique platforms: {data_quality[2]}\")\n",
    "    print(f\"Unique accounts: {data_quality[3]:,}\")\n",
    "    print(f\"Total spent: ${data_quality[4]:,.2f}\")\n",
    "    print(f\"Total conversions: {data_quality[5]:,}\")\n",
    "    print(f\"Average spent per register: ${data_quality[6]:.2f}\")\n",
    "    \n",
    "    # Get last data\n",
    "    sample_data = conn.execute(\"\"\"\n",
    "        SELECT date, platform, account, spend, conversions, load_date\n",
    "        FROM ads_spend_db \n",
    "        ORDER BY load_date DESC \n",
    "        LIMIT 5\n",
    "    \"\"\").fetchall()\n",
    "    \n",
    "    print(f\"\\nLast data:\")\n",
    "    for row in sample_data:\n",
    "        date, platform, account, spend, conversions, load_date = row\n",
    "        print(f\"   {date} | {platform} | {account} | ${spend} | {conversions} conv | {load_date}\")\n",
    "    \n",
    "    conn.close()\n",
    "    \n",
    "    return {\n",
    "        \"status\": \"verified\", \n",
    "        \"total_records\": total_records, \n",
    "        \"load_sessions\": len(load_info),\n",
    "        \"data_quality_check\": \"passed\"\n",
    "    }"
   ]
  },
  {
   "cell_type": "markdown",
   "id": "6e5abd52",
   "metadata": {},
   "source": [
    "##### Execute persistence verification"
   ]
  },
  {
   "cell_type": "code",
   "execution_count": 10,
   "id": "9d269da4",
   "metadata": {},
   "outputs": [
    {
     "name": "stdout",
     "output_type": "stream",
     "text": [
      "Total records persisted 16,000\n",
      "Registered load sessions 8\n",
      "\n",
      "Load history\n",
      "ads_spend.csv | 2025-08-28 04:59\n",
      "Registers: 2,000\n",
      "Datetime: 2025-08-28 04:59:58.325771\n",
      "\n",
      "ads_spend.csv | 2025-08-28 04:24\n",
      "Registers: 2,000\n",
      "Datetime: 2025-08-28 04:24:44.721864\n",
      "\n",
      "ads_spend.csv | 2025-08-28 04:23\n",
      "Registers: 2,000\n",
      "Datetime: 2025-08-28 04:23:47.079539\n",
      "\n",
      "ads_spend.csv | 2025-08-28 01:59\n",
      "Registers: 2,000\n",
      "Datetime: 2025-08-28 01:59:55.243061\n",
      "\n",
      "ads_spend.csv | 2025-08-28 01:56\n",
      "Registers: 2,000\n",
      "Datetime: 2025-08-28 01:56:01.048397\n",
      "\n",
      "Data queality:\n",
      "Total registers: 16,000\n",
      "Unique dates: 181\n",
      "Unique platforms: 2\n",
      "Unique accounts: 3\n",
      "Total spent: $13,526,114.56\n",
      "Total conversions: 439,336\n",
      "Average spent per register: $845.38\n",
      "\n",
      "Last data:\n",
      "   2025-01-01 | Meta | AcctA | $1115.94 | 29 conv | 2025-08-28 04:59:58.325771\n",
      "   2025-01-01 | Google | AcctA | $789.43 | 28 conv | 2025-08-28 04:59:58.325771\n",
      "   2025-01-01 | Google | AcctA | $381.40 | 12 conv | 2025-08-28 04:59:58.325771\n",
      "   2025-01-01 | Google | AcctC | $1268.34 | 36 conv | 2025-08-28 04:59:58.325771\n",
      "   2025-01-01 | Google | AcctA | $1229.70 | 31 conv | 2025-08-28 04:59:58.325771\n",
      "\n",
      "Verification result: {'status': 'verified', 'total_records': 16000, 'load_sessions': 8, 'data_quality_check': 'passed'}\n"
     ]
    }
   ],
   "source": [
    "# Execute verification\n",
    "persistence_result = data_persistence()\n",
    "print(f\"\\nVerification result: {persistence_result}\")"
   ]
  },
  {
   "cell_type": "markdown",
   "id": "ca24934a",
   "metadata": {},
   "source": [
    "### Create n8n executable script"
   ]
  },
  {
   "cell_type": "markdown",
   "id": "b6f781e5",
   "metadata": {},
   "source": [
    "##### Create script for n8n in python"
   ]
  },
  {
   "cell_type": "code",
   "execution_count": null,
   "id": "07683cce",
   "metadata": {},
   "outputs": [],
   "source": [
    "# Python script content\n",
    "script_content = '''#!/usr/bin/env python3\n",
    "\n",
    "import importlib\n",
    "import subprocess\n",
    "import sys\n",
    "\n",
    "# We list special packages that don't exist in jupyter installation\n",
    "special_required_packages = {\n",
    "    \"duckdb\": \"duckdb\",\n",
    "    \"pandas\": \"pandas\"\n",
    "}\n",
    "\n",
    "# Verify special packages\n",
    "for module_name, pip_name in special_required_packages.items():\n",
    "    try:\n",
    "        importlib.import_module(module_name)\n",
    "        print(f\"{module_name} already installed\")\n",
    "    except ImportError:\n",
    "        print(f\"Installing {pip_name}...\")\n",
    "        subprocess.check_call([sys.executable, \"-m\", \"pip\", \"install\", pip_name])\n",
    "\n",
    "#import sys\n",
    "import pandas as pd\n",
    "import duckdb\n",
    "from datetime import datetime\n",
    "import json\n",
    "import os\n",
    "\n",
    "def main():\n",
    "    try:\n",
    "\n",
    "        #localprobe\n",
    "        #csv_path = \"/home/jovyan/challenge/data/ads_spend.csv\"\n",
    "        #db_path = \"/home/jovyan/challenge/database/warehouse.db\"\n",
    "        #production\n",
    "        csv_path = \"/data/ads_spend.csv\"\n",
    "        db_path = \"/database/warehouse.db\"\n",
    "\n",
    "        # Verify csv file again\n",
    "        if not os.path.exists(csv_path):\n",
    "            raise FileNotFoundError(f\"{csv_path} csv not found\")\n",
    "            \n",
    "        # Read CSV and convert to dataframe\n",
    "        input_data_df = pd.read_csv(csv_path)\n",
    "        print(f\"csv loaded: {input_data_df.shape[0]:,} rows, {input_data_df.shape[1]} columns\")\n",
    "        \n",
    "        # Validate if csv is empty\n",
    "        if input_data_df.empty:\n",
    "            raise ValueError(\"csv is empty\")\n",
    "\n",
    "        # Validate columns name (we put the list of columns that we already know exist)    \n",
    "        required_columns = ['date', 'platform', 'account', 'campaign', \n",
    "                           'country', 'device', 'spend', 'clicks', \n",
    "                           'impressions', 'conversions']\n",
    "        \n",
    "        # Check if we have missing columns\n",
    "        missing_cols = [col for col in required_columns if col not in input_data_df.columns]\n",
    "        if missing_cols:\n",
    "            raise ValueError(f\"Missing columns: {missing_cols}\")\n",
    "\n",
    "        # Check null or empty values in columns\n",
    "        null_empty_columns = [col for col in required_columns if input_data_df[col].isnull().any() or input_data_df[col].apply(lambda x: isinstance(x, str) and x.strip() == \"\").any()]\n",
    "\n",
    "        if null_empty_columns:\n",
    "            raise ValueError(f\"Columnas con valores nulos o vacíos: {null_empty_columns}\")\n",
    "        \n",
    "        # Add metadata\n",
    "        # Date\n",
    "        input_data_df['load_date'] = datetime.now()\n",
    "        # Filename\n",
    "        input_data_df['source_file_name'] = 'ads_spend.csv'\n",
    "        \n",
    "        print(f\"load_date: {input_data_df['load_date'].iloc[0]}\")\n",
    "        print(f\"source_file_name: {input_data_df['source_file_name'].iloc[0]}\")\n",
    "        \n",
    "        # Connect to duckDB\n",
    "        conn = duckdb.connect(db_path)\n",
    "        \n",
    "        create_table_sql = \"\"\"\n",
    "        CREATE TABLE IF NOT EXISTS ads_spend_db (\n",
    "            date DATE,\n",
    "            platform VARCHAR,\n",
    "            account VARCHAR,\n",
    "            campaign VARCHAR,\n",
    "            country VARCHAR,\n",
    "            device VARCHAR,\n",
    "            spend DECIMAL(12,2),\n",
    "            clicks INTEGER,\n",
    "            impressions INTEGER,\n",
    "            conversions INTEGER,\n",
    "            -- Metadata challenge required\n",
    "            load_date TIMESTAMP,\n",
    "            source_file_name VARCHAR\n",
    "        );\n",
    "        \"\"\"\n",
    "        # Verify table is already created or just verify\n",
    "        conn.execute(create_table_sql)\n",
    "        print(\"Table ads_spend_db verified/created\")\n",
    "        \n",
    "        # Count register before add\n",
    "        count_before = conn.execute(\"SELECT COUNT(*) FROM ads_spend_db\").fetchone()[0]\n",
    "        \n",
    "        # Insert data in append mode to demostrate persistence\n",
    "        conn.register('df_new', input_data_df)\n",
    "        conn.execute(\"INSERT INTO ads_spend_db SELECT * FROM df_new\")\n",
    "        \n",
    "        # Count register after add\n",
    "        count_after = conn.execute(\"SELECT COUNT(*) FROM ads_spend_db\").fetchone()[0]\n",
    "        \n",
    "        conn.close()\n",
    "        \n",
    "        # Result for n8n in JSON format\n",
    "        result = {\n",
    "            \"status\": \"success\",\n",
    "            \"timestamp\": datetime.now().isoformat(),\n",
    "            \"rows_inserted\": len(input_data_df),\n",
    "            \"total_rows_before\": count_before,\n",
    "            \"total_rows_after\": count_after,\n",
    "            \"source_file\": \"ads_spend.csv\",\n",
    "            \"message\": f\"Successfully ingested {len(input_data_df):,} rows into warehouse\"\n",
    "        }\n",
    "        \n",
    "        print(f\"Register added: {len(input_data_df):,}\")\n",
    "        print(f\"Total regiser in DB now: {count_after:,}\")\n",
    "        print(f\"Increment: +{count_after - count_before:,}\")\n",
    "        \n",
    "        print(json.dumps(result))\n",
    "        return 0\n",
    "        \n",
    "    except Exception as e:\n",
    "        error = {\n",
    "            \"status\": \"error\",\n",
    "            \"error_message\": str(e),\n",
    "            \"error_type\": type(e).__name__,\n",
    "            \"timestamp\": datetime.now().isoformat()\n",
    "        }\n",
    "        print(json.dumps(error))\n",
    "        return 1\n",
    "\n",
    "if __name__ == \"__main__\":\n",
    "    sys.exit(main())\n",
    "'''"
   ]
  },
  {
   "cell_type": "markdown",
   "id": "0fa7b7f9",
   "metadata": {},
   "source": [
    "##### Function to create python script"
   ]
  },
  {
   "cell_type": "code",
   "execution_count": 12,
   "id": "4de1fff1",
   "metadata": {},
   "outputs": [],
   "source": [
    "def create_n8n_executable_script():\n",
    "    \n",
    "    # Save the script\n",
    "    script_path = \"/home/jovyan/challenge/notebooks/n8n_ingest_script.py\"\n",
    "    with open(script_path, 'w') as file:\n",
    "        file.write(script_content)\n",
    "    \n",
    "    # Make the script executable for n8n\n",
    "    os.chmod(script_path, 0o755)\n",
    "        \n",
    "    print(f\"Script created: {script_path}\")\n",
    "    print(\"Can execute by n8n with the node 'Execute Command'\")\n",
    "    print(f\"Command to n8n: python3 /notebooks/n8n_ingest_script.py\")\n",
    "    \n",
    "    return script_path"
   ]
  },
  {
   "cell_type": "markdown",
   "id": "8302d11b",
   "metadata": {},
   "source": [
    "##### Execute function and extract path to probe locally after this execution"
   ]
  },
  {
   "cell_type": "code",
   "execution_count": 13,
   "id": "e0e8fc22",
   "metadata": {},
   "outputs": [
    {
     "name": "stdout",
     "output_type": "stream",
     "text": [
      "Script created: /home/jovyan/challenge/notebooks/n8n_ingest_script.py\n",
      "Can execute by n8n with the node 'Execute Command'\n",
      "Command to n8n: python3 /notebooks/n8n_ingest_script.py\n"
     ]
    }
   ],
   "source": [
    "# Create script\n",
    "script_path = create_n8n_executable_script()"
   ]
  },
  {
   "cell_type": "markdown",
   "id": "4bb9bf61",
   "metadata": {},
   "source": [
    "##### Probe python script locally"
   ]
  },
  {
   "cell_type": "code",
   "execution_count": 14,
   "id": "c29f0096",
   "metadata": {},
   "outputs": [
    {
     "name": "stdout",
     "output_type": "stream",
     "text": [
      "\n",
      "Probe script locally\n",
      "Return code: 0\n",
      "Output: duckdb already installed\n",
      "pandas already installed\n",
      "csv loaded: 2,000 rows, 10 columns\n",
      "load_date: 2025-08-28 04:59:59.546706\n",
      "source_file_name: ads_spend.csv\n",
      "Table ads_spend_db verified/created\n",
      "Register added: 2,000\n",
      "Total regiser in DB now: 18,000\n",
      "Increment: +2,000\n",
      "{\"status\": \"success\", \"timestamp\": \"2025-08-28T04:59:59.751499\", \"rows_inserted\": 2000, \"total_rows_before\": 16000, \"total_rows_after\": 18000, \"source_file\": \"ads_spend.csv\", \"message\": \"Successfully ingested 2,000 rows into warehouse\"}\n",
      "\n"
     ]
    }
   ],
   "source": [
    "# Probar el script localmente\n",
    "print(f\"\\nProbe script locally\")\n",
    "import subprocess\n",
    "result = subprocess.run(['python3', script_path], \n",
    "                       capture_output=True, text=True, cwd='/home/jovyan/challenge')\n",
    "\n",
    "print(f\"Return code: {result.returncode}\")\n",
    "print(f\"Output: {result.stdout}\")\n",
    "if result.stderr:\n",
    "    print(f\"Errors: {result.stderr}\")"
   ]
  }
 ],
 "metadata": {
  "kernelspec": {
   "display_name": "Python 3 (ipykernel)",
   "language": "python",
   "name": "python3"
  },
  "language_info": {
   "codemirror_mode": {
    "name": "ipython",
    "version": 3
   },
   "file_extension": ".py",
   "mimetype": "text/x-python",
   "name": "python",
   "nbconvert_exporter": "python",
   "pygments_lexer": "ipython3",
   "version": "3.11.6"
  }
 },
 "nbformat": 4,
 "nbformat_minor": 5
}
