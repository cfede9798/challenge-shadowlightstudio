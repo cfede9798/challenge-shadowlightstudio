{
 "cells": [
  {
   "cell_type": "markdown",
   "id": "451031bb",
   "metadata": {},
   "source": [
    "### Data ingestion and exploration"
   ]
  },
  {
   "cell_type": "markdown",
   "id": "a0b0d133",
   "metadata": {},
   "source": [
    "##### Required Python packages"
   ]
  },
  {
   "cell_type": "code",
   "execution_count": 7,
   "id": "ed9d0ae5",
   "metadata": {},
   "outputs": [],
   "source": [
    "import os\n",
    "import sys\n",
    "import pandas as pd"
   ]
  },
  {
   "cell_type": "markdown",
   "id": "94a80d19",
   "metadata": {},
   "source": [
    "##### Verify System Version and set input data path, database path"
   ]
  },
  {
   "cell_type": "code",
   "execution_count": 5,
   "id": "0c75ec46",
   "metadata": {},
   "outputs": [
    {
     "name": "stdout",
     "output_type": "stream",
     "text": [
      "Working directory: /home/jovyan/challenge\n",
      "Python version: 3.11.6 | packaged by conda-forge | (main, Oct  3 2023, 10:40:35) [GCC 12.3.0]\n"
     ]
    }
   ],
   "source": [
    "# Input data path and database path within container\n",
    "CSV_PATH = \"/home/jovyan/challenge/data/ads_spend.csv\"\n",
    "DB_PATH = \"/home/jovyan/challenge/database/warehouse.db\"\n",
    "\n",
    "# Verify directory path and python version\n",
    "print(f\"Working directory: {os.getcwd()}\")\n",
    "print(f\"Python version: {sys.version}\")"
   ]
  },
  {
   "cell_type": "markdown",
   "id": "2e28cbd9",
   "metadata": {},
   "source": [
    "##### Explore input data (ads_spend.csv)"
   ]
  },
  {
   "cell_type": "code",
   "execution_count": null,
   "id": "40a36408",
   "metadata": {},
   "outputs": [
    {
     "data": {
      "application/vnd.microsoft.datawrangler.viewer.v0+json": {
       "columns": [
        {
         "name": "index",
         "rawType": "int64",
         "type": "integer"
        },
        {
         "name": "date",
         "rawType": "object",
         "type": "string"
        },
        {
         "name": "platform",
         "rawType": "object",
         "type": "string"
        },
        {
         "name": "account",
         "rawType": "object",
         "type": "string"
        },
        {
         "name": "campaign",
         "rawType": "object",
         "type": "string"
        },
        {
         "name": "country",
         "rawType": "object",
         "type": "string"
        },
        {
         "name": "device",
         "rawType": "object",
         "type": "string"
        },
        {
         "name": "spend",
         "rawType": "float64",
         "type": "float"
        },
        {
         "name": "clicks",
         "rawType": "int64",
         "type": "integer"
        },
        {
         "name": "impressions",
         "rawType": "int64",
         "type": "integer"
        },
        {
         "name": "conversions",
         "rawType": "int64",
         "type": "integer"
        }
       ],
       "ref": "703544e7-1dac-46ca-944e-c2ba8eee429e",
       "rows": [
        [
         "0",
         "2025-01-01",
         "Meta",
         "AcctA",
         "Prospecting",
         "MX",
         "Desktop",
         "1115.94",
         "360",
         "15840",
         "29"
        ],
        [
         "1",
         "2025-01-01",
         "Google",
         "AcctA",
         "Brand_Search",
         "CA",
         "Mobile",
         "789.43",
         "566",
         "22640",
         "28"
        ],
        [
         "2",
         "2025-01-01",
         "Google",
         "AcctA",
         "Prospecting",
         "BR",
         "Desktop",
         "381.4",
         "133",
         "10241",
         "12"
        ],
        [
         "3",
         "2025-01-01",
         "Google",
         "AcctC",
         "Prospecting",
         "US",
         "Desktop",
         "1268.34",
         "891",
         "49005",
         "36"
        ],
        [
         "4",
         "2025-01-01",
         "Google",
         "AcctA",
         "Brand_Search",
         "BR",
         "Desktop",
         "1229.7",
         "628",
         "21352",
         "31"
        ]
       ],
       "shape": {
        "columns": 10,
        "rows": 5
       }
      },
      "text/html": [
       "<div>\n",
       "<style scoped>\n",
       "    .dataframe tbody tr th:only-of-type {\n",
       "        vertical-align: middle;\n",
       "    }\n",
       "\n",
       "    .dataframe tbody tr th {\n",
       "        vertical-align: top;\n",
       "    }\n",
       "\n",
       "    .dataframe thead th {\n",
       "        text-align: right;\n",
       "    }\n",
       "</style>\n",
       "<table border=\"1\" class=\"dataframe\">\n",
       "  <thead>\n",
       "    <tr style=\"text-align: right;\">\n",
       "      <th></th>\n",
       "      <th>date</th>\n",
       "      <th>platform</th>\n",
       "      <th>account</th>\n",
       "      <th>campaign</th>\n",
       "      <th>country</th>\n",
       "      <th>device</th>\n",
       "      <th>spend</th>\n",
       "      <th>clicks</th>\n",
       "      <th>impressions</th>\n",
       "      <th>conversions</th>\n",
       "    </tr>\n",
       "  </thead>\n",
       "  <tbody>\n",
       "    <tr>\n",
       "      <th>0</th>\n",
       "      <td>2025-01-01</td>\n",
       "      <td>Meta</td>\n",
       "      <td>AcctA</td>\n",
       "      <td>Prospecting</td>\n",
       "      <td>MX</td>\n",
       "      <td>Desktop</td>\n",
       "      <td>1115.94</td>\n",
       "      <td>360</td>\n",
       "      <td>15840</td>\n",
       "      <td>29</td>\n",
       "    </tr>\n",
       "    <tr>\n",
       "      <th>1</th>\n",
       "      <td>2025-01-01</td>\n",
       "      <td>Google</td>\n",
       "      <td>AcctA</td>\n",
       "      <td>Brand_Search</td>\n",
       "      <td>CA</td>\n",
       "      <td>Mobile</td>\n",
       "      <td>789.43</td>\n",
       "      <td>566</td>\n",
       "      <td>22640</td>\n",
       "      <td>28</td>\n",
       "    </tr>\n",
       "    <tr>\n",
       "      <th>2</th>\n",
       "      <td>2025-01-01</td>\n",
       "      <td>Google</td>\n",
       "      <td>AcctA</td>\n",
       "      <td>Prospecting</td>\n",
       "      <td>BR</td>\n",
       "      <td>Desktop</td>\n",
       "      <td>381.40</td>\n",
       "      <td>133</td>\n",
       "      <td>10241</td>\n",
       "      <td>12</td>\n",
       "    </tr>\n",
       "    <tr>\n",
       "      <th>3</th>\n",
       "      <td>2025-01-01</td>\n",
       "      <td>Google</td>\n",
       "      <td>AcctC</td>\n",
       "      <td>Prospecting</td>\n",
       "      <td>US</td>\n",
       "      <td>Desktop</td>\n",
       "      <td>1268.34</td>\n",
       "      <td>891</td>\n",
       "      <td>49005</td>\n",
       "      <td>36</td>\n",
       "    </tr>\n",
       "    <tr>\n",
       "      <th>4</th>\n",
       "      <td>2025-01-01</td>\n",
       "      <td>Google</td>\n",
       "      <td>AcctA</td>\n",
       "      <td>Brand_Search</td>\n",
       "      <td>BR</td>\n",
       "      <td>Desktop</td>\n",
       "      <td>1229.70</td>\n",
       "      <td>628</td>\n",
       "      <td>21352</td>\n",
       "      <td>31</td>\n",
       "    </tr>\n",
       "  </tbody>\n",
       "</table>\n",
       "</div>"
      ],
      "text/plain": [
       "         date platform account      campaign country   device    spend  \\\n",
       "0  2025-01-01     Meta   AcctA   Prospecting      MX  Desktop  1115.94   \n",
       "1  2025-01-01   Google   AcctA  Brand_Search      CA   Mobile   789.43   \n",
       "2  2025-01-01   Google   AcctA   Prospecting      BR  Desktop   381.40   \n",
       "3  2025-01-01   Google   AcctC   Prospecting      US  Desktop  1268.34   \n",
       "4  2025-01-01   Google   AcctA  Brand_Search      BR  Desktop  1229.70   \n",
       "\n",
       "   clicks  impressions  conversions  \n",
       "0     360        15840           29  \n",
       "1     566        22640           28  \n",
       "2     133        10241           12  \n",
       "3     891        49005           36  \n",
       "4     628        21352           31  "
      ]
     },
     "metadata": {},
     "output_type": "display_data"
    }
   ],
   "source": [
    "# Verify if csv exists\n",
    "if os.path.exists(CSV_PATH):\n",
    "    \n",
    "    # Take first 5 rows into pandas format, just for inspection\n",
    "    df_sample = pd.read_csv(CSV_PATH, nrows=5)\n",
    "    display(df_sample)\n",
    "    \n",
    "else:\n",
    "    print(\"CSV file not found\")\n",
    "\n",
    "# Delete dataframe\n",
    "del df_sample"
   ]
  },
  {
   "cell_type": "code",
   "execution_count": null,
   "id": "6f9bfb68",
   "metadata": {},
   "outputs": [],
   "source": [
    "# Verify if csv exists\n",
    "if os.path.exists(CSV_PATH):\n",
    "    \n",
    "    # Full data set info\n",
    "    df_full = pd.read_csv(CSV_PATH)\n",
    "    print(f\"dataset shape: {df_full.shape}\")\n",
    "    print(f\"Columns: {list(df_full.columns)}\")\n",
    "    print(f\"Spend total: ${df_full['spend'].sum():,.2f}\")\n",
    "    print(f\"Date range: {df_full['date'].min()} a {df_full['date'].max()}\")\n",
    "    print(f\"Platforms: {df_full['platform'].unique()}\")\n",
    "    print(f\"Unique accounts: {df_full['account'].nunique()}\")\n",
    "    \n",
    "    # Verify data types\n",
    "    for col, dtype in df_full.dtypes.items():\n",
    "        print(f\"  {col}: {dtype}\")\n",
    "        \n",
    "else:\n",
    "    print(\"CSV file not found\")\n",
    "\n",
    "# Delete dataframe\n",
    "del df_full"
   ]
  }
 ],
 "metadata": {
  "kernelspec": {
   "display_name": "Python 3 (ipykernel)",
   "language": "python",
   "name": "python3"
  },
  "language_info": {
   "codemirror_mode": {
    "name": "ipython",
    "version": 3
   },
   "file_extension": ".py",
   "mimetype": "text/x-python",
   "name": "python",
   "nbconvert_exporter": "python",
   "pygments_lexer": "ipython3",
   "version": "3.11.6"
  }
 },
 "nbformat": 4,
 "nbformat_minor": 5
}
