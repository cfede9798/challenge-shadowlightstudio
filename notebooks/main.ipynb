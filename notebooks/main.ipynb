{
 "cells": [
  {
   "cell_type": "markdown",
   "id": "451031bb",
   "metadata": {},
   "source": [
    "### Data exploration"
   ]
  },
  {
   "cell_type": "markdown",
   "id": "a0b0d133",
   "metadata": {},
   "source": [
    "##### Required Python packages"
   ]
  },
  {
   "cell_type": "code",
   "execution_count": null,
   "id": "e50d6f75",
   "metadata": {},
   "outputs": [
    {
     "name": "stdout",
     "output_type": "stream",
     "text": [
      "Installing duckdb...\n",
      "Collecting duckdb\n",
      "  Downloading duckdb-1.3.2-cp311-cp311-manylinux_2_27_x86_64.manylinux_2_28_x86_64.whl.metadata (7.0 kB)\n",
      "Downloading duckdb-1.3.2-cp311-cp311-manylinux_2_27_x86_64.manylinux_2_28_x86_64.whl (21.1 MB)\n",
      "\u001b[2K   \u001b[90m━━━━━━━━━━━━━━━━━━━━━━━━━━━━━━━━━━━━━━━━\u001b[0m \u001b[32m21.1/21.1 MB\u001b[0m \u001b[31m23.3 MB/s\u001b[0m eta \u001b[36m0:00:00\u001b[0m00:01\u001b[0m00:01\u001b[0m\n",
      "\u001b[?25hInstalling collected packages: duckdb\n",
      "Successfully installed duckdb-1.3.2\n"
     ]
    }
   ],
   "source": [
    "import importlib\n",
    "import subprocess\n",
    "import sys\n",
    "\n",
    "# We list special packages that don't exist in jupyter installation\n",
    "special_required_packages = {\n",
    "    \"duckdb\": \"duckdb\"\n",
    "}\n",
    "\n",
    "# Verify special packages\n",
    "for module_name, pip_name in special_required_packages.items():\n",
    "    try:\n",
    "        importlib.import_module(module_name)\n",
    "        print(f\"{module_name} already installed\")\n",
    "    except ImportError:\n",
    "        print(f\"Installing {pip_name}...\")\n",
    "        subprocess.check_call([sys.executable, \"-m\", \"pip\", \"install\", pip_name])"
   ]
  },
  {
   "cell_type": "code",
   "execution_count": 17,
   "id": "ed9d0ae5",
   "metadata": {},
   "outputs": [],
   "source": [
    "import os\n",
    "import sys\n",
    "import json\n",
    "import duckdb\n",
    "import pandas as pd\n",
    "from datetime import datetime"
   ]
  },
  {
   "cell_type": "markdown",
   "id": "94a80d19",
   "metadata": {},
   "source": [
    "##### Verify system version and set input data path, database path"
   ]
  },
  {
   "cell_type": "code",
   "execution_count": 3,
   "id": "0c75ec46",
   "metadata": {},
   "outputs": [
    {
     "name": "stdout",
     "output_type": "stream",
     "text": [
      "Working directory: /home/jovyan/challenge\n",
      "Python version: 3.11.6 | packaged by conda-forge | (main, Oct  3 2023, 10:40:35) [GCC 12.3.0]\n"
     ]
    }
   ],
   "source": [
    "# Input data path and database path within container\n",
    "CSV_PATH = \"/home/jovyan/challenge/data/ads_spend.csv\"\n",
    "DB_PATH = \"/home/jovyan/challenge/database/warehouse.db\"\n",
    "\n",
    "# Verify directory path and python version\n",
    "print(f\"Working directory: {os.getcwd()}\")\n",
    "print(f\"Python version: {sys.version}\")"
   ]
  },
  {
   "cell_type": "markdown",
   "id": "2e28cbd9",
   "metadata": {},
   "source": [
    "##### Explore first 5 rows within input data (ads_spend.csv)"
   ]
  },
  {
   "cell_type": "code",
   "execution_count": null,
   "id": "40a36408",
   "metadata": {},
   "outputs": [
    {
     "data": {
      "application/vnd.microsoft.datawrangler.viewer.v0+json": {
       "columns": [
        {
         "name": "index",
         "rawType": "int64",
         "type": "integer"
        },
        {
         "name": "date",
         "rawType": "object",
         "type": "string"
        },
        {
         "name": "platform",
         "rawType": "object",
         "type": "string"
        },
        {
         "name": "account",
         "rawType": "object",
         "type": "string"
        },
        {
         "name": "campaign",
         "rawType": "object",
         "type": "string"
        },
        {
         "name": "country",
         "rawType": "object",
         "type": "string"
        },
        {
         "name": "device",
         "rawType": "object",
         "type": "string"
        },
        {
         "name": "spend",
         "rawType": "float64",
         "type": "float"
        },
        {
         "name": "clicks",
         "rawType": "int64",
         "type": "integer"
        },
        {
         "name": "impressions",
         "rawType": "int64",
         "type": "integer"
        },
        {
         "name": "conversions",
         "rawType": "int64",
         "type": "integer"
        }
       ],
       "ref": "703544e7-1dac-46ca-944e-c2ba8eee429e",
       "rows": [
        [
         "0",
         "2025-01-01",
         "Meta",
         "AcctA",
         "Prospecting",
         "MX",
         "Desktop",
         "1115.94",
         "360",
         "15840",
         "29"
        ],
        [
         "1",
         "2025-01-01",
         "Google",
         "AcctA",
         "Brand_Search",
         "CA",
         "Mobile",
         "789.43",
         "566",
         "22640",
         "28"
        ],
        [
         "2",
         "2025-01-01",
         "Google",
         "AcctA",
         "Prospecting",
         "BR",
         "Desktop",
         "381.4",
         "133",
         "10241",
         "12"
        ],
        [
         "3",
         "2025-01-01",
         "Google",
         "AcctC",
         "Prospecting",
         "US",
         "Desktop",
         "1268.34",
         "891",
         "49005",
         "36"
        ],
        [
         "4",
         "2025-01-01",
         "Google",
         "AcctA",
         "Brand_Search",
         "BR",
         "Desktop",
         "1229.7",
         "628",
         "21352",
         "31"
        ]
       ],
       "shape": {
        "columns": 10,
        "rows": 5
       }
      },
      "text/html": [
       "<div>\n",
       "<style scoped>\n",
       "    .dataframe tbody tr th:only-of-type {\n",
       "        vertical-align: middle;\n",
       "    }\n",
       "\n",
       "    .dataframe tbody tr th {\n",
       "        vertical-align: top;\n",
       "    }\n",
       "\n",
       "    .dataframe thead th {\n",
       "        text-align: right;\n",
       "    }\n",
       "</style>\n",
       "<table border=\"1\" class=\"dataframe\">\n",
       "  <thead>\n",
       "    <tr style=\"text-align: right;\">\n",
       "      <th></th>\n",
       "      <th>date</th>\n",
       "      <th>platform</th>\n",
       "      <th>account</th>\n",
       "      <th>campaign</th>\n",
       "      <th>country</th>\n",
       "      <th>device</th>\n",
       "      <th>spend</th>\n",
       "      <th>clicks</th>\n",
       "      <th>impressions</th>\n",
       "      <th>conversions</th>\n",
       "    </tr>\n",
       "  </thead>\n",
       "  <tbody>\n",
       "    <tr>\n",
       "      <th>0</th>\n",
       "      <td>2025-01-01</td>\n",
       "      <td>Meta</td>\n",
       "      <td>AcctA</td>\n",
       "      <td>Prospecting</td>\n",
       "      <td>MX</td>\n",
       "      <td>Desktop</td>\n",
       "      <td>1115.94</td>\n",
       "      <td>360</td>\n",
       "      <td>15840</td>\n",
       "      <td>29</td>\n",
       "    </tr>\n",
       "    <tr>\n",
       "      <th>1</th>\n",
       "      <td>2025-01-01</td>\n",
       "      <td>Google</td>\n",
       "      <td>AcctA</td>\n",
       "      <td>Brand_Search</td>\n",
       "      <td>CA</td>\n",
       "      <td>Mobile</td>\n",
       "      <td>789.43</td>\n",
       "      <td>566</td>\n",
       "      <td>22640</td>\n",
       "      <td>28</td>\n",
       "    </tr>\n",
       "    <tr>\n",
       "      <th>2</th>\n",
       "      <td>2025-01-01</td>\n",
       "      <td>Google</td>\n",
       "      <td>AcctA</td>\n",
       "      <td>Prospecting</td>\n",
       "      <td>BR</td>\n",
       "      <td>Desktop</td>\n",
       "      <td>381.40</td>\n",
       "      <td>133</td>\n",
       "      <td>10241</td>\n",
       "      <td>12</td>\n",
       "    </tr>\n",
       "    <tr>\n",
       "      <th>3</th>\n",
       "      <td>2025-01-01</td>\n",
       "      <td>Google</td>\n",
       "      <td>AcctC</td>\n",
       "      <td>Prospecting</td>\n",
       "      <td>US</td>\n",
       "      <td>Desktop</td>\n",
       "      <td>1268.34</td>\n",
       "      <td>891</td>\n",
       "      <td>49005</td>\n",
       "      <td>36</td>\n",
       "    </tr>\n",
       "    <tr>\n",
       "      <th>4</th>\n",
       "      <td>2025-01-01</td>\n",
       "      <td>Google</td>\n",
       "      <td>AcctA</td>\n",
       "      <td>Brand_Search</td>\n",
       "      <td>BR</td>\n",
       "      <td>Desktop</td>\n",
       "      <td>1229.70</td>\n",
       "      <td>628</td>\n",
       "      <td>21352</td>\n",
       "      <td>31</td>\n",
       "    </tr>\n",
       "  </tbody>\n",
       "</table>\n",
       "</div>"
      ],
      "text/plain": [
       "         date platform account      campaign country   device    spend  \\\n",
       "0  2025-01-01     Meta   AcctA   Prospecting      MX  Desktop  1115.94   \n",
       "1  2025-01-01   Google   AcctA  Brand_Search      CA   Mobile   789.43   \n",
       "2  2025-01-01   Google   AcctA   Prospecting      BR  Desktop   381.40   \n",
       "3  2025-01-01   Google   AcctC   Prospecting      US  Desktop  1268.34   \n",
       "4  2025-01-01   Google   AcctA  Brand_Search      BR  Desktop  1229.70   \n",
       "\n",
       "   clicks  impressions  conversions  \n",
       "0     360        15840           29  \n",
       "1     566        22640           28  \n",
       "2     133        10241           12  \n",
       "3     891        49005           36  \n",
       "4     628        21352           31  "
      ]
     },
     "metadata": {},
     "output_type": "display_data"
    }
   ],
   "source": [
    "# Verify if csv exists\n",
    "if os.path.exists(CSV_PATH):\n",
    "    \n",
    "    # Take first 5 rows into pandas format, just for inspection\n",
    "    df_sample = pd.read_csv(CSV_PATH, nrows=5)\n",
    "    display(df_sample)\n",
    "    \n",
    "else:\n",
    "    print(\"CSV file not found\")\n",
    "\n",
    "# Delete dataframe\n",
    "del df_sample"
   ]
  },
  {
   "cell_type": "markdown",
   "id": "f9619075",
   "metadata": {},
   "source": [
    "##### Some features and big picture within input data (ads_spend.csv)"
   ]
  },
  {
   "cell_type": "code",
   "execution_count": null,
   "id": "6f9bfb68",
   "metadata": {},
   "outputs": [
    {
     "name": "stdout",
     "output_type": "stream",
     "text": [
      "dataset shape: (2000, 10)\n",
      "Columns: ['date', 'platform', 'account', 'campaign', 'country', 'device', 'spend', 'clicks', 'impressions', 'conversions']\n",
      "Spend total: $1,690,764.32\n",
      "Date range: 2025-01-01 a 2025-06-30\n",
      "Platforms: ['Meta' 'Google']\n",
      "Unique accounts: ['AcctA' 'AcctC' 'AcctB']\n",
      "  date: object\n",
      "  platform: object\n",
      "  account: object\n",
      "  campaign: object\n",
      "  country: object\n",
      "  device: object\n",
      "  spend: float64\n",
      "  clicks: int64\n",
      "  impressions: int64\n",
      "  conversions: int64\n"
     ]
    }
   ],
   "source": [
    "# Verify if csv exists\n",
    "if os.path.exists(CSV_PATH):\n",
    "    \n",
    "    # Full data set info\n",
    "    df_full = pd.read_csv(CSV_PATH)\n",
    "    print(f\"Dataset shape: {df_full.shape}\")\n",
    "    print(f\"Columns: {list(df_full.columns)}\")\n",
    "    print(f\"Spend total: ${df_full['spend'].sum():,.2f}\")\n",
    "    print(f\"Date range: {df_full['date'].min()} a {df_full['date'].max()}\")\n",
    "    print(f\"Platforms: {df_full['platform'].unique()}\")\n",
    "    print(f\"Unique accounts: {df_full['account'].unique()}\")\n",
    "    \n",
    "    # Verify data types\n",
    "    for col, dtype in df_full.dtypes.items():\n",
    "        print(f\"  {col}: {dtype}\")\n",
    "        \n",
    "else:\n",
    "    print(\"CSV file not found\")\n",
    "\n",
    "# Delete dataframe\n",
    "del df_full"
   ]
  },
  {
   "cell_type": "markdown",
   "id": "858f976b",
   "metadata": {},
   "source": [
    "### Data ingestion process"
   ]
  },
  {
   "cell_type": "markdown",
   "id": "95cc8db4",
   "metadata": {},
   "source": [
    "##### Function to ingest data in database"
   ]
  },
  {
   "cell_type": "code",
   "execution_count": 15,
   "id": "51fde355",
   "metadata": {},
   "outputs": [],
   "source": [
    "def ingest_data():\n",
    "\n",
    "    # Error handling\n",
    "    try:\n",
    "\n",
    "        # Verify csv file again\n",
    "        if not os.path.exists(CSV_PATH):\n",
    "            raise FileNotFoundError(f\"{CSV_PATH} csv not found\")\n",
    "            \n",
    "        # Read CSV and convert to dataframe\n",
    "        input_data_df = pd.read_csv(CSV_PATH)\n",
    "        print(f\"csv loaded: {input_data_df.shape[0]:,} rows, {input_data_df.shape[1]} columns\")\n",
    "        \n",
    "        # Validate if csv is empty\n",
    "        if input_data_df.empty:\n",
    "            raise ValueError(\"csv is empty\")\n",
    "\n",
    "        # Validate columns name (we put the list of columns that we already know exist)    \n",
    "        required_columns = ['date', 'platform', 'account', 'campaign', \n",
    "                           'country', 'device', 'spend', 'clicks', \n",
    "                           'impressions', 'conversions']\n",
    "        \n",
    "        # Check if we have missing columns\n",
    "        missing_cols = [col for col in required_columns if col not in input_data_df.columns]\n",
    "        if missing_cols:\n",
    "            raise ValueError(f\"Missing columns: {missing_cols}\")\n",
    "\n",
    "        # Check null or empty values in columns\n",
    "        null_empty_columns = [col for col in required_columns if input_data_df[col].isnull().any() or input_data_df[col].apply(lambda x: isinstance(x, str) and x.strip() == \"\").any()]\n",
    "\n",
    "        if null_empty_columns:\n",
    "            raise ValueError(f\"Columnas con valores nulos o vacíos: {problematic_columns}\")\n",
    "        \n",
    "        # Add metadata\n",
    "        # Date\n",
    "        input_data_df['load_date'] = datetime.now()\n",
    "        # Filename\n",
    "        input_data_df['source_file_name'] = 'ads_spend.csv'\n",
    "        \n",
    "        print(f\"load_date: {input_data_df['load_date'].iloc[0]}\")\n",
    "        print(f\"source_file_name: {input_data_df['source_file_name'].iloc[0]}\")\n",
    "        \n",
    "        # Connect to duckDB\n",
    "        conn = duckdb.connect(DB_PATH)\n",
    "        \n",
    "        create_table_sql = \"\"\"\n",
    "        CREATE TABLE IF NOT EXISTS ads_spend_db (\n",
    "            date DATE,\n",
    "            platform VARCHAR,\n",
    "            account VARCHAR,\n",
    "            campaign VARCHAR,\n",
    "            country VARCHAR,\n",
    "            device VARCHAR,\n",
    "            spend DECIMAL(12,2),\n",
    "            clicks INTEGER,\n",
    "            impressions INTEGER,\n",
    "            conversions INTEGER,\n",
    "            -- Metadata challenge required\n",
    "            load_date TIMESTAMP,\n",
    "            source_file_name VARCHAR\n",
    "        );\n",
    "        \"\"\"\n",
    "        # Verify table is already created or just verify\n",
    "        conn.execute(create_table_sql)\n",
    "        print(\"Table ads_spend_db verified/created\")\n",
    "        \n",
    "        # Count register before add\n",
    "        count_before = conn.execute(\"SELECT COUNT(*) FROM ads_spend_db\").fetchone()[0]\n",
    "        \n",
    "        # Insert data in append mode to demostrate persistence\n",
    "        conn.register('df_new', input_data_df)\n",
    "        conn.execute(\"INSERT INTO ads_spend_db SELECT * FROM df_new\")\n",
    "        \n",
    "        # Count register after add\n",
    "        count_after = conn.execute(\"SELECT COUNT(*) FROM ads_spend_db\").fetchone()[0]\n",
    "        \n",
    "        conn.close()\n",
    "        \n",
    "        # Result for n8n in JSON format\n",
    "        result = {\n",
    "            \"status\": \"success\",\n",
    "            \"timestamp\": datetime.now().isoformat(),\n",
    "            \"rows_inserted\": len(input_data_df),\n",
    "            \"total_rows_before\": count_before,\n",
    "            \"total_rows_after\": count_after,\n",
    "            \"source_file\": \"ads_spend.csv\",\n",
    "            \"message\": f\"Successfully ingested {len(input_data_df):,} rows into warehouse\"\n",
    "        }\n",
    "        \n",
    "        print(f\"Register added: {len(input_data_df):,}\")\n",
    "        print(f\"Total regiser in DB now: {count_after:,}\")\n",
    "        print(f\"Increment: +{count_after - count_before:,}\")\n",
    "        \n",
    "        return result\n",
    "\n",
    "    # Error handling    \n",
    "    except Exception as error:\n",
    "        error_result = {\n",
    "            \"status\": \"error\",\n",
    "            \"timestamp\": datetime.now().isoformat(),\n",
    "            \"error_message\": str(error),\n",
    "            \"error_type\": type(error).__name__\n",
    "        }\n",
    "        print(f\"ERROR: {error}\")\n",
    "        return error_result"
   ]
  },
  {
   "cell_type": "markdown",
   "id": "340f2bd9",
   "metadata": {},
   "source": [
    "##### Execute data ingest"
   ]
  },
  {
   "cell_type": "code",
   "execution_count": 23,
   "id": "7d559296",
   "metadata": {},
   "outputs": [
    {
     "name": "stdout",
     "output_type": "stream",
     "text": [
      "Data Ingest in Execution\n",
      "csv loaded: 2,000 rows, 10 columns\n",
      "load_date: 2025-08-28 00:47:37.086398\n",
      "source_file_name: ads_spend.csv\n",
      "Table ads_spend_db verified/created\n",
      "Register added: 2,000\n",
      "Total regiser in DB now: 4,000\n",
      "Increment: +2,000\n",
      "\n",
      "Final Result: \n",
      "{\n",
      "  \"status\": \"success\",\n",
      "  \"timestamp\": \"2025-08-28T00:47:37.316933\",\n",
      "  \"rows_inserted\": 2000,\n",
      "  \"total_rows_before\": 2000,\n",
      "  \"total_rows_after\": 4000,\n",
      "  \"source_file\": \"ads_spend.csv\",\n",
      "  \"message\": \"Successfully ingested 2,000 rows into warehouse\"\n",
      "}\n"
     ]
    }
   ],
   "source": [
    "# Ingest data to database\n",
    "print(\"Data Ingest in Execution\")\n",
    "result = ingest_data()\n",
    "\n",
    "# Get result for n8n\n",
    "print(f\"\\nFinal Result: \")\n",
    "print(json.dumps(result, indent=2))"
   ]
  },
  {
   "cell_type": "markdown",
   "id": "766e52d9",
   "metadata": {},
   "source": [
    "### Verify data persistence"
   ]
  },
  {
   "cell_type": "code",
   "execution_count": null,
   "id": "1d21a9f0",
   "metadata": {},
   "outputs": [],
   "source": []
  }
 ],
 "metadata": {
  "kernelspec": {
   "display_name": "Python 3 (ipykernel)",
   "language": "python",
   "name": "python3"
  },
  "language_info": {
   "codemirror_mode": {
    "name": "ipython",
    "version": 3
   },
   "file_extension": ".py",
   "mimetype": "text/x-python",
   "name": "python",
   "nbconvert_exporter": "python",
   "pygments_lexer": "ipython3",
   "version": "3.11.6"
  }
 },
 "nbformat": 4,
 "nbformat_minor": 5
}
